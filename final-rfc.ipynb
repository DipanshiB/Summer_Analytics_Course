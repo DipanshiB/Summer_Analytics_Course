{
 "cells": [
  {
   "cell_type": "code",
   "execution_count": 1,
   "metadata": {},
   "outputs": [],
   "source": [
    "import numpy as np \n",
    "import pandas as pd\n",
    "import matplotlib.pyplot as plt\n",
    "%matplotlib inline\n",
    "\n",
    "df_train = pd.read_csv('train.csv')\n",
    "df_test = pd.read_csv('test.csv')"
   ]
  },
  {
   "cell_type": "code",
   "execution_count": 2,
   "metadata": {},
   "outputs": [],
   "source": [
    "import sklearn \n",
    "from sklearn.preprocessing import LabelEncoder\n",
    "le = LabelEncoder()"
   ]
  },
  {
   "cell_type": "code",
   "execution_count": 3,
   "metadata": {},
   "outputs": [],
   "source": [
    "# ENCODING TRAINING SET\n",
    "df_train['BusinessTravel'] = le.fit_transform(df_train['BusinessTravel'])\n",
    "df_train['Department'] = le.fit_transform(df_train['Department'])\n",
    "df_train['EducationField'] = le.fit_transform(df_train['EducationField'])\n",
    "df_train['Gender'] = le.fit_transform(df_train['Gender'])\n",
    "df_train['JobRole'] = le.fit_transform(df_train['JobRole'])\n",
    "df_train['OverTime'] = le.fit_transform(df_train['OverTime'])\n",
    "df_train['MaritalStatus'] = le.fit_transform(df_train['MaritalStatus'])"
   ]
  },
  {
   "cell_type": "code",
   "execution_count": 4,
   "metadata": {},
   "outputs": [],
   "source": [
    "# ENCODING TEST SET\n",
    "df_test['BusinessTravel'] = le.fit_transform(df_test['BusinessTravel'])\n",
    "df_test['Department'] = le.fit_transform(df_test['Department'])\n",
    "df_test['EducationField'] = le.fit_transform(df_test['EducationField'])\n",
    "df_test['Gender'] = le.fit_transform(df_test['Gender'])\n",
    "df_test['JobRole'] = le.fit_transform(df_test['JobRole'])\n",
    "df_test['OverTime'] = le.fit_transform(df_test['OverTime'])\n",
    "df_test['MaritalStatus'] = le.fit_transform(df_test['MaritalStatus'])"
   ]
  },
  {
   "cell_type": "code",
   "execution_count": 5,
   "metadata": {},
   "outputs": [],
   "source": [
    "x_train = df_train.drop('Attrition', axis=1)\n",
    "y_train = df_train['Attrition']"
   ]
  },
  {
   "cell_type": "code",
   "execution_count": 6,
   "metadata": {},
   "outputs": [],
   "source": [
    "from sklearn.ensemble import RandomForestClassifier"
   ]
  },
  {
   "cell_type": "code",
   "execution_count": 28,
   "metadata": {},
   "outputs": [],
   "source": [
    "clf = RandomForestClassifier(n_estimators=150, random_state=120)\n",
    "clf.fit(x_train,y_train)\n",
    "\n",
    "y_pred = clf.predict_proba(df_test)[:,1]"
   ]
  },
  {
   "cell_type": "code",
   "execution_count": 29,
   "metadata": {},
   "outputs": [],
   "source": [
    "df1 = pd.DataFrame(df_test['Id'], columns=['Id'])\n",
    "df2 = pd.DataFrame(y_pred, columns=['Attrition'])\n",
    "df_final = pd.concat([df1['Id'], df2['Attrition']], axis=1)"
   ]
  },
  {
   "cell_type": "code",
   "execution_count": 30,
   "metadata": {},
   "outputs": [],
   "source": [
    "df_final.to_csv('Result_RFC_2.5.csv')"
   ]
  },
  {
   "cell_type": "code",
   "execution_count": null,
   "metadata": {},
   "outputs": [],
   "source": []
  }
 ],
 "metadata": {
  "kernelspec": {
   "display_name": "Python 3",
   "language": "python",
   "name": "python3"
  },
  "language_info": {
   "codemirror_mode": {
    "name": "ipython",
    "version": 3
   },
   "file_extension": ".py",
   "mimetype": "text/x-python",
   "name": "python",
   "nbconvert_exporter": "python",
   "pygments_lexer": "ipython3",
   "version": "3.7.3"
  }
 },
 "nbformat": 4,
 "nbformat_minor": 2
}
